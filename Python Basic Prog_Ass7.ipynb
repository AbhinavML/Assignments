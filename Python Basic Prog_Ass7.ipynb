{
 "cells": [
  {
   "cell_type": "raw",
   "id": "d18290e1",
   "metadata": {},
   "source": [
    "Write a Python Program to find sum of array?"
   ]
  },
  {
   "cell_type": "code",
   "execution_count": 6,
   "id": "9344d48e",
   "metadata": {},
   "outputs": [],
   "source": [
    "# Write a Python Program to find sum of array?\n",
    "def sumOfArray(a):\n",
    "    arraySum=0\n",
    "    for i in a:\n",
    "        if type(i)== int:\n",
    "            arraySum+=i\n",
    "    return arraySum"
   ]
  },
  {
   "cell_type": "code",
   "execution_count": 16,
   "id": "951b5f9c",
   "metadata": {},
   "outputs": [
    {
     "data": {
      "text/plain": [
       "2564"
      ]
     },
     "execution_count": 16,
     "metadata": {},
     "output_type": "execute_result"
    }
   ],
   "source": [
    "ar=[12,3,32,324,984,423,1,785]\n",
    "sumOfArray(ar)"
   ]
  },
  {
   "cell_type": "raw",
   "id": "a512a390",
   "metadata": {},
   "source": [
    "Write a Python Program to find largest element in an array?"
   ]
  },
  {
   "cell_type": "code",
   "execution_count": 12,
   "id": "68b51d65",
   "metadata": {},
   "outputs": [],
   "source": [
    "# Write a Python Program to find largest element in an array?\n",
    "def largestNumber(a):\n",
    "    lar=a[0]\n",
    "    for i in a:\n",
    "        if i>lar:\n",
    "            lar=i\n",
    "    return lar"
   ]
  },
  {
   "cell_type": "code",
   "execution_count": 17,
   "id": "9363e7df",
   "metadata": {},
   "outputs": [
    {
     "data": {
      "text/plain": [
       "984"
      ]
     },
     "execution_count": 17,
     "metadata": {},
     "output_type": "execute_result"
    }
   ],
   "source": [
    "largestNumber(ar)"
   ]
  },
  {
   "cell_type": "raw",
   "id": "e49dd1ef",
   "metadata": {},
   "source": [
    "Write a Python Program for array rotation?"
   ]
  },
  {
   "cell_type": "code",
   "execution_count": 9,
   "id": "68ccfc7c",
   "metadata": {},
   "outputs": [],
   "source": [
    "# Write a Python Program for array rotation?\n",
    "def arrayRotate(direction, arr):\n",
    "    a=[]\n",
    "    if direction == \"right\":\n",
    "        for i in range(len(arr)):\n",
    "            a.append(arr[i-1])\n",
    "    elif direction == \"left\":\n",
    "        for i in range(len(arr)):\n",
    "            if i<len(arr)-1:\n",
    "                a.append(arr[i+1])\n",
    "        a.append(arr[0])\n",
    "    return a"
   ]
  },
  {
   "cell_type": "code",
   "execution_count": 14,
   "id": "70d583e8",
   "metadata": {},
   "outputs": [
    {
     "name": "stdout",
     "output_type": "stream",
     "text": [
      "[23, 21, 32, 43, 3243, 32, 234]\n",
      "[32, 43, 3243, 32, 234, 23, 21]\n"
     ]
    }
   ],
   "source": [
    "arr=[21,32,43,3243,32,234,23]\n",
    "print(arrayRotate(\"right\", arr))\n",
    "print(arrayRotate(\"left\", arr))"
   ]
  },
  {
   "cell_type": "raw",
   "id": "2e56f58a",
   "metadata": {},
   "source": [
    "Write a Python Program to Split the array and add the first part to the end?"
   ]
  },
  {
   "cell_type": "code",
   "execution_count": 66,
   "id": "41cd7c5e",
   "metadata": {},
   "outputs": [],
   "source": [
    "# Write a Python Program to Split the array and add the first part to the end?\n",
    "def splitAdd(arr, r):\n",
    "    a1=[]\n",
    "    a2=[]\n",
    "    for i in range(0, r+1):\n",
    "        a1.append(arr[i])\n",
    "    for j in range(r+1, len(arr)):\n",
    "        a2.append(arr[j])\n",
    "    return a2+a1"
   ]
  },
  {
   "cell_type": "code",
   "execution_count": 67,
   "id": "21c32177",
   "metadata": {},
   "outputs": [
    {
     "name": "stdout",
     "output_type": "stream",
     "text": [
      "index from which split is required:3\n"
     ]
    },
    {
     "data": {
      "text/plain": [
       "[32, 234, 23, 21, 32, 43, 3243]"
      ]
     },
     "execution_count": 67,
     "metadata": {},
     "output_type": "execute_result"
    }
   ],
   "source": [
    "arr=[21,32,43,3243,32,234,23]\n",
    "splitAdd(arr, int(input(\"index from which split is required:\")))"
   ]
  },
  {
   "cell_type": "raw",
   "id": "7e54aaa2",
   "metadata": {},
   "source": [
    "Write a Python Program to check if given array is Monotonic?"
   ]
  },
  {
   "cell_type": "code",
   "execution_count": 16,
   "id": "f51b5bad",
   "metadata": {},
   "outputs": [],
   "source": [
    "a=[1,2,3,5,6,7,89]\n",
    "b=[1,2,7,4,5,6]\n",
    "c=[7,4,2,1]"
   ]
  },
  {
   "cell_type": "code",
   "execution_count": 10,
   "id": "5d36182a",
   "metadata": {},
   "outputs": [],
   "source": [
    "# Write a Python Program to check if given array is Monotonic?\n",
    "def isArrayMonotonic(n):\n",
    "    flag = False\n",
    "    if n[0]>n[1]:\n",
    "        flag =True\n",
    "    for i in range(len(n)-1):\n",
    "        if n[i]>n[i+1] and not flag or n[i]<n[i+1] and flag:\n",
    "            return False\n",
    "    return True"
   ]
  },
  {
   "cell_type": "code",
   "execution_count": 17,
   "id": "2574acb4",
   "metadata": {},
   "outputs": [
    {
     "name": "stdout",
     "output_type": "stream",
     "text": [
      "True\n",
      "False\n",
      "True\n"
     ]
    }
   ],
   "source": [
    "print(isArrayMonotonic(a))\n",
    "print(isArrayMonotonic(b))\n",
    "print(isArrayMonotonic(c))"
   ]
  }
 ],
 "metadata": {
  "kernelspec": {
   "display_name": "Python 3 (ipykernel)",
   "language": "python",
   "name": "python3"
  },
  "language_info": {
   "codemirror_mode": {
    "name": "ipython",
    "version": 3
   },
   "file_extension": ".py",
   "mimetype": "text/x-python",
   "name": "python",
   "nbconvert_exporter": "python",
   "pygments_lexer": "ipython3",
   "version": "3.9.7"
  }
 },
 "nbformat": 4,
 "nbformat_minor": 5
}
