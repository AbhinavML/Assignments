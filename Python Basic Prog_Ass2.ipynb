{
 "cells": [
  {
   "cell_type": "raw",
   "id": "805df18a",
   "metadata": {},
   "source": [
    "Write a Python program to convert kilometers to miles?"
   ]
  },
  {
   "cell_type": "code",
   "execution_count": 11,
   "id": "e485a128",
   "metadata": {},
   "outputs": [],
   "source": [
    "def kmToMiles(a):\n",
    "    return 0.62137*a"
   ]
  },
  {
   "cell_type": "code",
   "execution_count": 12,
   "id": "cc1014be",
   "metadata": {},
   "outputs": [
    {
     "data": {
      "text/plain": [
       "62.137"
      ]
     },
     "execution_count": 12,
     "metadata": {},
     "output_type": "execute_result"
    }
   ],
   "source": [
    "kmToMiles(100)"
   ]
  },
  {
   "cell_type": "raw",
   "id": "09b036c8",
   "metadata": {},
   "source": [
    "Write a Python program to convert Celsius to Fahrenheit?"
   ]
  },
  {
   "cell_type": "code",
   "execution_count": 21,
   "id": "fbfdc8bf",
   "metadata": {},
   "outputs": [],
   "source": [
    "def celsiusToFarenheit(a):\n",
    "    return a*9/5+32"
   ]
  },
  {
   "cell_type": "code",
   "execution_count": 24,
   "id": "215a3c36",
   "metadata": {},
   "outputs": [
    {
     "data": {
      "text/plain": [
       "32.9"
      ]
     },
     "execution_count": 24,
     "metadata": {},
     "output_type": "execute_result"
    }
   ],
   "source": [
    "celsiusToFarenheit(0.5)"
   ]
  },
  {
   "cell_type": "raw",
   "id": "a4f85b5c",
   "metadata": {},
   "source": [
    "Write a Python program to display calendar?"
   ]
  },
  {
   "cell_type": "code",
   "execution_count": 25,
   "id": "1eced6d9",
   "metadata": {},
   "outputs": [],
   "source": [
    "import calendar"
   ]
  },
  {
   "cell_type": "code",
   "execution_count": 36,
   "id": "85aa56fd",
   "metadata": {},
   "outputs": [],
   "source": [
    "def showCalendar():\n",
    "    year =int(input())\n",
    "    month =int(input())\n",
    "    print(calendar.month(year, month))"
   ]
  },
  {
   "cell_type": "code",
   "execution_count": 37,
   "id": "6a94597f",
   "metadata": {},
   "outputs": [
    {
     "name": "stdout",
     "output_type": "stream",
     "text": [
      "2022\n",
      "1\n",
      "    January 2022\n",
      "Mo Tu We Th Fr Sa Su\n",
      "                1  2\n",
      " 3  4  5  6  7  8  9\n",
      "10 11 12 13 14 15 16\n",
      "17 18 19 20 21 22 23\n",
      "24 25 26 27 28 29 30\n",
      "31\n",
      "\n"
     ]
    }
   ],
   "source": [
    "showCalendar()"
   ]
  },
  {
   "cell_type": "raw",
   "id": "59492abc",
   "metadata": {},
   "source": [
    "Write a Python program to solve quadratic equation?"
   ]
  },
  {
   "cell_type": "code",
   "execution_count": 90,
   "id": "9c6fa0ce",
   "metadata": {},
   "outputs": [],
   "source": [
    "def solveQuad():\n",
    "    a=int(input(\"Enter coefficient of a:\"))\n",
    "    b=int(input(\"Enter coefficient of b:\"))\n",
    "    c=int(input(\"Enter coefficient of c:\"))\n",
    "    d=(b**2)-4*a*c\n",
    "    \n",
    "    if d<0:\n",
    "        return \"No real solution\"\n",
    "    if d==0:\n",
    "        root= (-b+d**0.5)/(2*a)\n",
    "        return \"Equation has only one solution\", root\n",
    "    if d>0:\n",
    "        root1=(-b+d**0.5)/(2*a)\n",
    "        root2=(-b-d**0.5)/(2*a)\n",
    "        return \"Solutions are:\",root1,\" and\",root2"
   ]
  },
  {
   "cell_type": "code",
   "execution_count": 88,
   "id": "43f0ac17",
   "metadata": {},
   "outputs": [
    {
     "name": "stdout",
     "output_type": "stream",
     "text": [
      "Enter coefficient of a:2\n",
      "Enter coefficient of b:6\n",
      "Enter coefficient of c:1\n"
     ]
    },
    {
     "data": {
      "text/plain": [
       "('Solutions are:', -0.17712434446770464, ' and', -2.8228756555322954)"
      ]
     },
     "execution_count": 88,
     "metadata": {},
     "output_type": "execute_result"
    }
   ],
   "source": [
    "solveQuad()"
   ]
  },
  {
   "cell_type": "raw",
   "id": "39825c10",
   "metadata": {},
   "source": [
    "Write a Python program to swap two variables without temp variable?"
   ]
  },
  {
   "cell_type": "code",
   "execution_count": 98,
   "id": "72ec3a35",
   "metadata": {},
   "outputs": [],
   "source": [
    "def swapVar(a,b):\n",
    "    print(\"Value of a is: \",a,\" and b is: \",b)\n",
    "    a,b=b,a\n",
    "    print(\"After swapping value of a is: \",a,\" and b is: \",b)"
   ]
  },
  {
   "cell_type": "code",
   "execution_count": 102,
   "id": "1e8644de",
   "metadata": {},
   "outputs": [
    {
     "name": "stdout",
     "output_type": "stream",
     "text": [
      "Value of a is:  3  and b is:  5\n",
      "After swapping value of a is:  5  and b is:  3\n"
     ]
    }
   ],
   "source": [
    "swapVar(3,5)"
   ]
  }
 ],
 "metadata": {
  "kernelspec": {
   "display_name": "Python 3 (ipykernel)",
   "language": "python",
   "name": "python3"
  },
  "language_info": {
   "codemirror_mode": {
    "name": "ipython",
    "version": 3
   },
   "file_extension": ".py",
   "mimetype": "text/x-python",
   "name": "python",
   "nbconvert_exporter": "python",
   "pygments_lexer": "ipython3",
   "version": "3.9.7"
  }
 },
 "nbformat": 4,
 "nbformat_minor": 5
}
