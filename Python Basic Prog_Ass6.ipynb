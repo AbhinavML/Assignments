{
 "cells": [
  {
   "cell_type": "raw",
   "id": "147c0ea1",
   "metadata": {},
   "source": [
    "Write a Python Program to Display Fibonacci Sequence Using Recursion?"
   ]
  },
  {
   "cell_type": "code",
   "execution_count": 16,
   "id": "7efacef4",
   "metadata": {},
   "outputs": [
    {
     "name": "stdout",
     "output_type": "stream",
     "text": [
      "0\n",
      "1\n",
      "1\n",
      "2\n",
      "3\n",
      "5\n",
      "8\n",
      "13\n"
     ]
    }
   ],
   "source": [
    "# Write a Python Program to Display Fibonacci Sequence Using Recursion?\n",
    "def recur_fibo(n):\n",
    "    if n <= 1:\n",
    "        return n\n",
    "    else:\n",
    "        return(recur_fibo(n-1) + recur_fibo(n-2))\n",
    "\n",
    "a=8\n",
    "\n",
    "for i in range(a):\n",
    "    print(recur_fibo(i))"
   ]
  },
  {
   "cell_type": "raw",
   "id": "c2e35ea1",
   "metadata": {},
   "source": [
    "Write a Python Program to Find Factorial of Number Using Recursion?"
   ]
  },
  {
   "cell_type": "code",
   "execution_count": 30,
   "id": "bd51f915",
   "metadata": {},
   "outputs": [],
   "source": [
    "# Write a Python Program to Find Factorial of Number Using Recursion?\n",
    "def rec_fac(n):\n",
    "    if n==1:\n",
    "        return 1\n",
    "    else:\n",
    "        return (n*rec(n-1))"
   ]
  },
  {
   "cell_type": "code",
   "execution_count": 31,
   "id": "d87a5d70",
   "metadata": {},
   "outputs": [
    {
     "data": {
      "text/plain": [
       "120"
      ]
     },
     "execution_count": 31,
     "metadata": {},
     "output_type": "execute_result"
    }
   ],
   "source": [
    "rec_fac(5)"
   ]
  },
  {
   "cell_type": "raw",
   "id": "8be1a661",
   "metadata": {},
   "source": [
    "Write a Python Program to calculate your Body Mass Index?"
   ]
  },
  {
   "cell_type": "code",
   "execution_count": 74,
   "id": "6b8a7fbd",
   "metadata": {},
   "outputs": [],
   "source": [
    "# Write a Python Program to calculate your Body Mass Index?\n",
    "def bmi_ratio():\n",
    "    weight=int(input(\"Enter weight in kg:\"))\n",
    "    height=float(input(\"Enter height in meter:\"))\n",
    "    ratio= weight/(height**2)\n",
    "    \n",
    "    if ratio<18.5:\n",
    "        return \"BMI is\",ratio , \"=Underweight\"\n",
    "    elif 18.5<=ratio<=24.9:\n",
    "        return \"BMI is\",ratio , \"=Normal weight\"\n",
    "    elif 24.9<ratio<=29.9:\n",
    "        return \"BMI is\",ratio , \"=Overweight\"\n",
    "    elif ratio>=29.9:\n",
    "        return \"BMI is\",ratio , \"=Obesity\""
   ]
  },
  {
   "cell_type": "code",
   "execution_count": 76,
   "id": "280f07ef",
   "metadata": {},
   "outputs": [
    {
     "name": "stdout",
     "output_type": "stream",
     "text": [
      "Enter weight in kg:88\n",
      "Enter height in meter:1.8\n"
     ]
    },
    {
     "data": {
      "text/plain": [
       "('BMI is', 27.160493827160494, '=Overweight')"
      ]
     },
     "execution_count": 76,
     "metadata": {},
     "output_type": "execute_result"
    }
   ],
   "source": [
    "bmi_ratio()"
   ]
  },
  {
   "cell_type": "raw",
   "id": "92c8678e",
   "metadata": {},
   "source": [
    "Write a Python Program to calculate the natural logarithm of any number?"
   ]
  },
  {
   "cell_type": "code",
   "execution_count": 82,
   "id": "45e2d7d9",
   "metadata": {},
   "outputs": [],
   "source": [
    "# Write a Python Program to calculate the natural logarithm of any number?\n",
    "import math\n",
    "\n",
    "def natural_logarithm(n):\n",
    "    return math.log(n)"
   ]
  },
  {
   "cell_type": "code",
   "execution_count": 83,
   "id": "5b355276",
   "metadata": {},
   "outputs": [
    {
     "data": {
      "text/plain": [
       "2.995732273553991"
      ]
     },
     "execution_count": 83,
     "metadata": {},
     "output_type": "execute_result"
    }
   ],
   "source": [
    "natural_logarithm(20)"
   ]
  },
  {
   "cell_type": "raw",
   "id": "ba7535ef",
   "metadata": {},
   "source": [
    "Write a Python Program for cube sum of first n natural numbers?"
   ]
  },
  {
   "cell_type": "code",
   "execution_count": 94,
   "id": "13a690a1",
   "metadata": {},
   "outputs": [],
   "source": [
    "# Write a Python Program for cube sum of first n natural numbers?\n",
    "def cube_sum(a):\n",
    "    c=0\n",
    "    for i in range(a+1):\n",
    "        c=c+(i**3)\n",
    "    return c"
   ]
  },
  {
   "cell_type": "code",
   "execution_count": 95,
   "id": "c4be6450",
   "metadata": {},
   "outputs": [
    {
     "data": {
      "text/plain": [
       "225"
      ]
     },
     "execution_count": 95,
     "metadata": {},
     "output_type": "execute_result"
    }
   ],
   "source": [
    "cube_sum(5)"
   ]
  }
 ],
 "metadata": {
  "kernelspec": {
   "display_name": "Python 3 (ipykernel)",
   "language": "python",
   "name": "python3"
  },
  "language_info": {
   "codemirror_mode": {
    "name": "ipython",
    "version": 3
   },
   "file_extension": ".py",
   "mimetype": "text/x-python",
   "name": "python",
   "nbconvert_exporter": "python",
   "pygments_lexer": "ipython3",
   "version": "3.9.7"
  }
 },
 "nbformat": 4,
 "nbformat_minor": 5
}
