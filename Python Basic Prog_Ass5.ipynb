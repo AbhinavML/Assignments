{
 "cells": [
  {
   "cell_type": "raw",
   "id": "54454d3a",
   "metadata": {},
   "source": [
    "Write a Python Program to Find LCM?"
   ]
  },
  {
   "cell_type": "code",
   "execution_count": 35,
   "id": "c3c46cb5",
   "metadata": {},
   "outputs": [],
   "source": [
    "def lcm(a,b):\n",
    "    c=a*b\n",
    "    m=max(a,b)\n",
    "    for i in range(m,c):\n",
    "        if i%a==0 and i%b==0:\n",
    "            print(i)\n",
    "            break"
   ]
  },
  {
   "cell_type": "code",
   "execution_count": 36,
   "id": "1cd6414a",
   "metadata": {},
   "outputs": [
    {
     "name": "stdout",
     "output_type": "stream",
     "text": [
      "144\n"
     ]
    }
   ],
   "source": [
    "lcm(16,18)"
   ]
  },
  {
   "cell_type": "raw",
   "id": "499b5780",
   "metadata": {},
   "source": [
    "Write a Python Program to Find HCF?"
   ]
  },
  {
   "cell_type": "code",
   "execution_count": 69,
   "id": "c1528a81",
   "metadata": {},
   "outputs": [],
   "source": [
    "def hcf(a,b):\n",
    "    for i in range(min(a,b),1,-1):\n",
    "        if a%i==0 and b%i==0:\n",
    "            return i\n",
    "            break"
   ]
  },
  {
   "cell_type": "code",
   "execution_count": 70,
   "id": "a69f17e4",
   "metadata": {},
   "outputs": [
    {
     "data": {
      "text/plain": [
       "3"
      ]
     },
     "execution_count": 70,
     "metadata": {},
     "output_type": "execute_result"
    }
   ],
   "source": [
    "hcf(15,21)"
   ]
  },
  {
   "cell_type": "raw",
   "id": "ecac0eaa",
   "metadata": {},
   "source": [
    "Write a Python Program to Convert Decimal to Binary, Octal and Hexadecimal?"
   ]
  },
  {
   "cell_type": "code",
   "execution_count": 17,
   "id": "e6f47dfd",
   "metadata": {},
   "outputs": [],
   "source": [
    "def convertDecimalToBinary(a):\n",
    "    s=\"\"\n",
    "    f=\"\"\n",
    "    while(a>0):\n",
    "        r=a%2\n",
    "        s+=str(r)\n",
    "        a=a//2\n",
    "    for i in range(len(s)-1,-1,-1):\n",
    "        f+=s[i]\n",
    "    return f"
   ]
  },
  {
   "cell_type": "code",
   "execution_count": 38,
   "id": "71147724",
   "metadata": {},
   "outputs": [
    {
     "data": {
      "text/plain": [
       "'1000110111'"
      ]
     },
     "execution_count": 38,
     "metadata": {},
     "output_type": "execute_result"
    }
   ],
   "source": [
    "convertDecimalToBinary(567)"
   ]
  },
  {
   "cell_type": "code",
   "execution_count": 32,
   "id": "a254652d",
   "metadata": {},
   "outputs": [],
   "source": [
    "def toOctal(a):\n",
    "    s=\"\"\n",
    "    f=\"\"\n",
    "    \n",
    "    while(a>0):\n",
    "        r=a%8\n",
    "        s+=str(r)\n",
    "        a=a//8\n",
    "    for i in range(len(s)-1,-1,-1):\n",
    "        f+=s[i]\n",
    "    return f"
   ]
  },
  {
   "cell_type": "code",
   "execution_count": 33,
   "id": "b4dffa1f",
   "metadata": {},
   "outputs": [
    {
     "data": {
      "text/plain": [
       "'322'"
      ]
     },
     "execution_count": 33,
     "metadata": {},
     "output_type": "execute_result"
    }
   ],
   "source": [
    "toOctal(210)"
   ]
  },
  {
   "cell_type": "code",
   "execution_count": 36,
   "id": "6f200375",
   "metadata": {},
   "outputs": [],
   "source": [
    "def toHexa(a):\n",
    "    s=\"\"\n",
    "    f=\"\"\n",
    "    \n",
    "    while(a>0):\n",
    "        r=a%16\n",
    "        s+=str(r)\n",
    "        a=a//16\n",
    "    for i in range(len(s)-1,-1,-1):\n",
    "        f+=s[i]\n",
    "    return f"
   ]
  },
  {
   "cell_type": "code",
   "execution_count": 37,
   "id": "67aac6d5",
   "metadata": {},
   "outputs": [
    {
     "data": {
      "text/plain": [
       "'237'"
      ]
     },
     "execution_count": 37,
     "metadata": {},
     "output_type": "execute_result"
    }
   ],
   "source": [
    "toHexa(567)"
   ]
  },
  {
   "cell_type": "raw",
   "id": "656b3157",
   "metadata": {},
   "source": [
    "Write a Python Program To Find ASCII value of a character?"
   ]
  },
  {
   "cell_type": "code",
   "execution_count": 41,
   "id": "fa58f69c",
   "metadata": {},
   "outputs": [],
   "source": [
    "def returnASCII(a):\n",
    "    return ord(a)"
   ]
  },
  {
   "cell_type": "code",
   "execution_count": 42,
   "id": "395ec7d0",
   "metadata": {},
   "outputs": [
    {
     "data": {
      "text/plain": [
       "65"
      ]
     },
     "execution_count": 42,
     "metadata": {},
     "output_type": "execute_result"
    }
   ],
   "source": [
    "returnASCII(\"A\")"
   ]
  },
  {
   "cell_type": "raw",
   "id": "8c30619c",
   "metadata": {},
   "source": [
    "Write a Python Program to Make a Simple Calculator with 4 basic mathematical operations?"
   ]
  },
  {
   "cell_type": "code",
   "execution_count": 51,
   "id": "b9b65312",
   "metadata": {},
   "outputs": [],
   "source": [
    "def calci(operation, var1, var2):\n",
    "    if operation==\"add\":\n",
    "        return var1+var2\n",
    "    elif operation==\"sub\":\n",
    "        return var1-var2\n",
    "    elif operation==\"mul\":\n",
    "        return var1*var2\n",
    "    elif operation==\"div\":\n",
    "        return var1/var2"
   ]
  },
  {
   "cell_type": "code",
   "execution_count": 49,
   "id": "ea91b022",
   "metadata": {},
   "outputs": [
    {
     "name": "stdout",
     "output_type": "stream",
     "text": [
      "Enter the operation add/sub/mul/div: div\n",
      "Enter first variable: 3\n",
      "Enter second variable: 1\n"
     ]
    },
    {
     "data": {
      "text/plain": [
       "3.0"
      ]
     },
     "execution_count": 49,
     "metadata": {},
     "output_type": "execute_result"
    }
   ],
   "source": [
    "calci(str(input(\"Enter the operation add/sub/mul/div: \")), int(input(\"Enter first variable: \"))\n",
    "      , int(input(\"Enter second variable: \")))"
   ]
  }
 ],
 "metadata": {
  "kernelspec": {
   "display_name": "Python 3 (ipykernel)",
   "language": "python",
   "name": "python3"
  },
  "language_info": {
   "codemirror_mode": {
    "name": "ipython",
    "version": 3
   },
   "file_extension": ".py",
   "mimetype": "text/x-python",
   "name": "python",
   "nbconvert_exporter": "python",
   "pygments_lexer": "ipython3",
   "version": "3.9.7"
  }
 },
 "nbformat": 4,
 "nbformat_minor": 5
}
