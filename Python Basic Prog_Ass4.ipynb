{
 "cells": [
  {
   "cell_type": "raw",
   "id": "c3f4bc12",
   "metadata": {},
   "source": [
    "Write a Python Program to Find the Factorial of a Number?"
   ]
  },
  {
   "cell_type": "code",
   "execution_count": 12,
   "id": "551c0817",
   "metadata": {},
   "outputs": [],
   "source": [
    "def factorial(a):\n",
    "    c=1\n",
    "    if type(a)==int:\n",
    "        for i in range(a,0,-1):\n",
    "            c=c*i\n",
    "        return c    "
   ]
  },
  {
   "cell_type": "code",
   "execution_count": 18,
   "id": "6e4888e3",
   "metadata": {},
   "outputs": [
    {
     "data": {
      "text/plain": [
       "120"
      ]
     },
     "execution_count": 18,
     "metadata": {},
     "output_type": "execute_result"
    }
   ],
   "source": [
    "factorial(5)"
   ]
  },
  {
   "cell_type": "raw",
   "id": "2ca762ef",
   "metadata": {},
   "source": [
    "Write a Python Program to Display the multiplication Table?"
   ]
  },
  {
   "cell_type": "code",
   "execution_count": 23,
   "id": "7673fd80",
   "metadata": {},
   "outputs": [],
   "source": [
    "def table(a):\n",
    "    for i in range(11):\n",
    "        print(a,\"x\",i,\"=\",a*i)"
   ]
  },
  {
   "cell_type": "code",
   "execution_count": 24,
   "id": "be35bf72",
   "metadata": {},
   "outputs": [
    {
     "name": "stdout",
     "output_type": "stream",
     "text": [
      "5 x 0 = 0\n",
      "5 x 1 = 5\n",
      "5 x 2 = 10\n",
      "5 x 3 = 15\n",
      "5 x 4 = 20\n",
      "5 x 5 = 25\n",
      "5 x 6 = 30\n",
      "5 x 7 = 35\n",
      "5 x 8 = 40\n",
      "5 x 9 = 45\n",
      "5 x 10 = 50\n"
     ]
    }
   ],
   "source": [
    "table(5)"
   ]
  },
  {
   "cell_type": "raw",
   "id": "808205cc",
   "metadata": {},
   "source": [
    "Write a Python Program to Print the Fibonacci sequence?"
   ]
  },
  {
   "cell_type": "code",
   "execution_count": 43,
   "id": "f518a2d4",
   "metadata": {},
   "outputs": [],
   "source": [
    "def fibbo():\n",
    "    a=int(input(\"Enter first number: \"))\n",
    "    b=int(input(\"Enter second number: \"))\n",
    "    l=[]\n",
    "    l.append(a)\n",
    "    l.append(b)\n",
    "    for i in range(10):\n",
    "        c=a+b\n",
    "        l.append(c)\n",
    "        a=b\n",
    "        b=c\n",
    "    return l"
   ]
  },
  {
   "cell_type": "code",
   "execution_count": 45,
   "id": "3aeec214",
   "metadata": {},
   "outputs": [
    {
     "name": "stdout",
     "output_type": "stream",
     "text": [
      "Enter first number: 1\n",
      "Enter second number: 1\n"
     ]
    },
    {
     "data": {
      "text/plain": [
       "[1, 1, 2, 3, 5, 8, 13, 21, 34, 55, 89, 144]"
      ]
     },
     "execution_count": 45,
     "metadata": {},
     "output_type": "execute_result"
    }
   ],
   "source": [
    "fibbo()"
   ]
  },
  {
   "cell_type": "raw",
   "id": "f8b11536",
   "metadata": {},
   "source": [
    "Write a Python Program to Check Armstrong Number?"
   ]
  },
  {
   "cell_type": "code",
   "execution_count": 17,
   "id": "0498e5d6",
   "metadata": {},
   "outputs": [],
   "source": [
    "def armstrongNumber(a):\n",
    "    originalNumber=a\n",
    "    sumOfNumber=0\n",
    "    if type(a)==int:\n",
    "        while a>0:\n",
    "            sumOfNumber+=(a%10)**3\n",
    "            a=a//10\n",
    "        if sumOfNumber==originalNumber:\n",
    "            print(\"Number is an armstrong number\")\n",
    "        else:\n",
    "            print(\"Not an armstrong\")\n",
    "    else:\n",
    "        print(\"Please enter a number\")"
   ]
  },
  {
   "cell_type": "code",
   "execution_count": 42,
   "id": "4282c756",
   "metadata": {},
   "outputs": [
    {
     "name": "stdout",
     "output_type": "stream",
     "text": [
      "Number is an armstrong number\n"
     ]
    }
   ],
   "source": [
    "armstrongNumber(371)"
   ]
  },
  {
   "cell_type": "raw",
   "id": "8d498a2b",
   "metadata": {},
   "source": [
    "Write a Python Program to Find Armstrong Number in an Interval?"
   ]
  },
  {
   "cell_type": "code",
   "execution_count": 40,
   "id": "c9cfe0be",
   "metadata": {},
   "outputs": [],
   "source": [
    "def armstrongInInterval(a):\n",
    "    for i in range(a):\n",
    "        originalNumber=i\n",
    "        sumOfNumber=0\n",
    "        while i>0:\n",
    "            sumOfNumber+=(i%10)**3\n",
    "            i=i//10\n",
    "        if sumOfNumber==originalNumber:\n",
    "            print(originalNumber,\" is an armstrong number\") "
   ]
  },
  {
   "cell_type": "code",
   "execution_count": 41,
   "id": "346a1381",
   "metadata": {},
   "outputs": [
    {
     "name": "stdout",
     "output_type": "stream",
     "text": [
      "0  is an armstrong number\n",
      "1  is an armstrong number\n",
      "153  is an armstrong number\n",
      "370  is an armstrong number\n",
      "371  is an armstrong number\n",
      "407  is an armstrong number\n"
     ]
    }
   ],
   "source": [
    "armstrongInInterval(500)"
   ]
  },
  {
   "cell_type": "raw",
   "id": "6205d843",
   "metadata": {},
   "source": [
    "Write a Python Program to Find the Sum of Natural Numbers?"
   ]
  },
  {
   "cell_type": "code",
   "execution_count": 60,
   "id": "0e92221c",
   "metadata": {},
   "outputs": [],
   "source": [
    "def sumOfNaturalNumber(n):\n",
    "    s=0\n",
    "    while n>0:\n",
    "        s=s+n\n",
    "        n=n-1\n",
    "    return s"
   ]
  },
  {
   "cell_type": "code",
   "execution_count": 65,
   "id": "3e352279",
   "metadata": {},
   "outputs": [
    {
     "data": {
      "text/plain": [
       "28"
      ]
     },
     "execution_count": 65,
     "metadata": {},
     "output_type": "execute_result"
    }
   ],
   "source": [
    "sumOfNaturalNumber(7)"
   ]
  }
 ],
 "metadata": {
  "kernelspec": {
   "display_name": "Python 3 (ipykernel)",
   "language": "python",
   "name": "python3"
  },
  "language_info": {
   "codemirror_mode": {
    "name": "ipython",
    "version": 3
   },
   "file_extension": ".py",
   "mimetype": "text/x-python",
   "name": "python",
   "nbconvert_exporter": "python",
   "pygments_lexer": "ipython3",
   "version": "3.9.7"
  }
 },
 "nbformat": 4,
 "nbformat_minor": 5
}
