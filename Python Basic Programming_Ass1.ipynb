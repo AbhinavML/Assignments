{
 "cells": [
  {
   "cell_type": "raw",
   "id": "1dcd0232",
   "metadata": {},
   "source": [
    "Write a Python program to print Hello Python?"
   ]
  },
  {
   "cell_type": "code",
   "execution_count": 3,
   "id": "7563d607",
   "metadata": {},
   "outputs": [],
   "source": [
    "def helloWorld():\n",
    "    print(\"Hello Python\")"
   ]
  },
  {
   "cell_type": "code",
   "execution_count": 4,
   "id": "72cd5e3f",
   "metadata": {},
   "outputs": [
    {
     "name": "stdout",
     "output_type": "stream",
     "text": [
      "Hello Python\n"
     ]
    }
   ],
   "source": [
    "helloWorld()"
   ]
  },
  {
   "cell_type": "raw",
   "id": "76f80ce3",
   "metadata": {},
   "source": [
    "Write a Python program to do arithmetical operations addition and division.?"
   ]
  },
  {
   "cell_type": "code",
   "execution_count": 8,
   "id": "897e27a1",
   "metadata": {},
   "outputs": [],
   "source": [
    "def addAndDivide(a,b):\n",
    "    print(\"Addition of given number is: \", a+b)\n",
    "    print(\"Division is: \",a/b)"
   ]
  },
  {
   "cell_type": "code",
   "execution_count": 9,
   "id": "63873194",
   "metadata": {},
   "outputs": [
    {
     "name": "stdout",
     "output_type": "stream",
     "text": [
      "Addition of given number is:  15\n",
      "Division is:  2.0\n"
     ]
    }
   ],
   "source": [
    "addAndDivide(10,5)"
   ]
  },
  {
   "cell_type": "raw",
   "id": "a3b2ee15",
   "metadata": {},
   "source": [
    "Write a Python program to find the area of a triangle?"
   ]
  },
  {
   "cell_type": "code",
   "execution_count": 10,
   "id": "d7e3f503",
   "metadata": {},
   "outputs": [],
   "source": [
    "def areaOfTriangle(base, height):\n",
    "    return base*height/2"
   ]
  },
  {
   "cell_type": "code",
   "execution_count": 11,
   "id": "f88c0e00",
   "metadata": {},
   "outputs": [
    {
     "data": {
      "text/plain": [
       "12.0"
      ]
     },
     "execution_count": 11,
     "metadata": {},
     "output_type": "execute_result"
    }
   ],
   "source": [
    "areaOfTriangle(4,6)"
   ]
  },
  {
   "cell_type": "raw",
   "id": "c715403a",
   "metadata": {},
   "source": [
    "Write a Python program to swap two variables?"
   ]
  },
  {
   "cell_type": "code",
   "execution_count": 19,
   "id": "2a6e3417",
   "metadata": {},
   "outputs": [],
   "source": [
    "def swapVar(a,b):\n",
    "    print(\"Value before swapping\")\n",
    "    print(\"Value of a is: \",a)\n",
    "    print(\"Value of B is: \",b)\n",
    "    c=b\n",
    "    b=a\n",
    "    a=c\n",
    "    print(\"------------------------\")\n",
    "    print(\"Value after swapping\")\n",
    "    print(\"Value of a is: \",a)\n",
    "    print(\"Value of b is: \",b)"
   ]
  },
  {
   "cell_type": "code",
   "execution_count": 21,
   "id": "d704c380",
   "metadata": {},
   "outputs": [
    {
     "name": "stdout",
     "output_type": "stream",
     "text": [
      "Value before swapping\n",
      "Value of a is:  45\n",
      "Value of B is:  97\n",
      "------------------------\n",
      "Value after swapping\n",
      "Value of a is:  97\n",
      "Value of b is:  45\n"
     ]
    }
   ],
   "source": [
    "swapVar(45,97)"
   ]
  },
  {
   "cell_type": "raw",
   "id": "61609ce8",
   "metadata": {},
   "source": [
    "Write a Python program to generate a random number?"
   ]
  },
  {
   "cell_type": "code",
   "execution_count": 2,
   "id": "47dcc76c",
   "metadata": {},
   "outputs": [],
   "source": [
    "import random  "
   ]
  },
  {
   "cell_type": "code",
   "execution_count": 3,
   "id": "37c99752",
   "metadata": {},
   "outputs": [],
   "source": [
    "def generateRandomNumber():\n",
    "    return random.random()"
   ]
  },
  {
   "cell_type": "code",
   "execution_count": 5,
   "id": "1c3e04f4",
   "metadata": {},
   "outputs": [
    {
     "data": {
      "text/plain": [
       "0.22828391850414964"
      ]
     },
     "execution_count": 5,
     "metadata": {},
     "output_type": "execute_result"
    }
   ],
   "source": [
    "generateRandomNumber()"
   ]
  }
 ],
 "metadata": {
  "kernelspec": {
   "display_name": "Python 3 (ipykernel)",
   "language": "python",
   "name": "python3"
  },
  "language_info": {
   "codemirror_mode": {
    "name": "ipython",
    "version": 3
   },
   "file_extension": ".py",
   "mimetype": "text/x-python",
   "name": "python",
   "nbconvert_exporter": "python",
   "pygments_lexer": "ipython3",
   "version": "3.9.7"
  }
 },
 "nbformat": 4,
 "nbformat_minor": 5
}
